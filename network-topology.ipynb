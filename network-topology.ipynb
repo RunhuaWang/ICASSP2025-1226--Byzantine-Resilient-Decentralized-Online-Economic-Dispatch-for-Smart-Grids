{
 "cells": [
  {
   "cell_type": "markdown",
   "metadata": {},
   "source": [
    "# 网络拓扑设置 双随机权重矩阵"
   ]
  },
  {
   "cell_type": "code",
   "execution_count": 1,
   "metadata": {},
   "outputs": [],
   "source": [
    "import numpy as np\n",
    "import random"
   ]
  },
  {
   "cell_type": "code",
   "execution_count": 2,
   "metadata": {},
   "outputs": [],
   "source": [
    "#邻接矩阵\n",
    "Doubly_Stochastic_Adjacency_Matrix= np.array([[1.0,1.0,1.0,0.0,1.0,0.0], [1.0,1.0,1.0,1.0,1.0,1.0], [1.0,1.0,1.0,1.0,1.0,1.0],[0.0,1.0,1.0,1.0,0.0,1.0],[1.0,1.0,1.0,0.0,1.0,0.0],[0.0,1.0,1.0,1.0,0.0,1.0]])#定义6*6维的邻接矩阵"
   ]
  },
  {
   "cell_type": "code",
   "execution_count": 3,
   "metadata": {},
   "outputs": [],
   "source": [
    "#根据邻接矩阵生成双随机矩阵 生成方法：Metropolis constant edge weight matrix\n",
    "degree=[3,5,5,3,3,3]\n",
    "for i in range(0,6):\n",
    "    k=0\n",
    "    for j in range(0,6):\n",
    "        if i!=j and Doubly_Stochastic_Adjacency_Matrix[i][j]!=0:\n",
    "            Doubly_Stochastic_Adjacency_Matrix[i][j]=1/(max(degree[i],degree[j])+0.5)\n",
    "            k=k+Doubly_Stochastic_Adjacency_Matrix[i][j]\n",
    "    Doubly_Stochastic_Adjacency_Matrix[i][i]=1-k"
   ]
  },
  {
   "cell_type": "code",
   "execution_count": 4,
   "metadata": {},
   "outputs": [
    {
     "data": {
      "text/plain": [
       "array([[0.35064935, 0.18181818, 0.18181818, 0.        , 0.28571429,\n",
       "        0.        ],\n",
       "       [0.18181818, 0.09090909, 0.18181818, 0.18181818, 0.18181818,\n",
       "        0.18181818],\n",
       "       [0.18181818, 0.18181818, 0.09090909, 0.18181818, 0.18181818,\n",
       "        0.18181818],\n",
       "       [0.        , 0.18181818, 0.18181818, 0.35064935, 0.        ,\n",
       "        0.28571429],\n",
       "       [0.28571429, 0.18181818, 0.18181818, 0.        , 0.35064935,\n",
       "        0.        ],\n",
       "       [0.        , 0.18181818, 0.18181818, 0.28571429, 0.        ,\n",
       "        0.35064935]])"
      ]
     },
     "execution_count": 4,
     "metadata": {},
     "output_type": "execute_result"
    }
   ],
   "source": [
    "Doubly_Stochastic_Adjacency_Matrix"
   ]
  },
  {
   "cell_type": "code",
   "execution_count": 5,
   "metadata": {},
   "outputs": [
    {
     "name": "stdout",
     "output_type": "stream",
     "text": [
      "1.0\n",
      "1.0\n",
      "1.0\n",
      "1.0\n",
      "1.0\n",
      "1.0\n",
      "1.0\n",
      "1.0\n",
      "1.0\n",
      "1.0\n",
      "1.0\n",
      "1.0\n"
     ]
    }
   ],
   "source": [
    "#验证矩阵Adjacency_Matrix是否满足双随机性质\n",
    "for i in range(0,6):\n",
    "    k=0\n",
    "    for j in range(0,6):\n",
    "        k=k+Doubly_Stochastic_Adjacency_Matrix[i][j]\n",
    "    print(k)\n",
    "\n",
    "for i in range(0,6):\n",
    "    k=0\n",
    "    for j in range(0,6):\n",
    "        k=k+Doubly_Stochastic_Adjacency_Matrix[j][i]\n",
    "    print(k)"
   ]
  },
  {
   "cell_type": "code",
   "execution_count": 6,
   "metadata": {},
   "outputs": [],
   "source": [
    "#数据存储\n",
    "np.savetxt('6_Network_Topology_Double_Random_Adjacency_Matrix.txt',Doubly_Stochastic_Adjacency_Matrix,fmt='%0.8f')#数据存储"
   ]
  },
  {
   "cell_type": "code",
   "execution_count": null,
   "metadata": {},
   "outputs": [],
   "source": []
  }
 ],
 "metadata": {
  "kernelspec": {
   "display_name": "Python 3",
   "language": "python",
   "name": "python3"
  },
  "language_info": {
   "codemirror_mode": {
    "name": "ipython",
    "version": 3
   },
   "file_extension": ".py",
   "mimetype": "text/x-python",
   "name": "python",
   "nbconvert_exporter": "python",
   "pygments_lexer": "ipython3",
   "version": "3.8.3"
  }
 },
 "nbformat": 4,
 "nbformat_minor": 4
}
